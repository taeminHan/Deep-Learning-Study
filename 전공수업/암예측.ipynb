{
 "cells": [
  {
   "cell_type": "code",
   "execution_count": 1,
   "id": "quiet-postcard",
   "metadata": {},
   "outputs": [],
   "source": [
    "import numpy as np\n",
    "import matplotlib.pyplot as plt\n",
    "import pandas as pd\n",
    "import tensorflow as tf\n",
    "import numpy.random as npr\n",
    "\n",
    "data = np.genfromtxt('cancer_data.csv', delimiter=',', dtype=np.string_)"
   ]
  },
  {
   "cell_type": "code",
   "execution_count": 2,
   "id": "dense-problem",
   "metadata": {
    "scrolled": true
   },
   "outputs": [],
   "source": [
    "real_data = data[1:, :]\n",
    "#데이터 섞어주기 아주 중요하다!\n",
    "npr.shuffle(real_data)"
   ]
  },
  {
   "cell_type": "code",
   "execution_count": 3,
   "id": "vocational-melissa",
   "metadata": {
    "scrolled": false
   },
   "outputs": [
    {
     "data": {
      "text/plain": [
       "(101, 3)"
      ]
     },
     "execution_count": 3,
     "metadata": {},
     "output_type": "execute_result"
    }
   ],
   "source": [
    "data.shape"
   ]
  },
  {
   "cell_type": "code",
   "execution_count": 4,
   "id": "seventh-knock",
   "metadata": {
    "scrolled": true
   },
   "outputs": [],
   "source": [
    "x = real_data[:,:2]\n",
    "y = real_data[:,2]"
   ]
  },
  {
   "cell_type": "code",
   "execution_count": 5,
   "id": "final-flashing",
   "metadata": {
    "scrolled": false
   },
   "outputs": [],
   "source": [
    "# 데이터 뽑기\n",
    "train_x = x[:60]\n",
    "train_y = y[:60]\n",
    "\n",
    "test_x = x[60:80]\n",
    "test_y = y[60:80]\n",
    "\n",
    "val_x = x[80:]\n",
    "val_y = y[80:]"
   ]
  },
  {
   "cell_type": "code",
   "execution_count": 6,
   "id": "remarkable-harvest",
   "metadata": {},
   "outputs": [],
   "source": [
    "train_x = train_x.astype(np.float32)\n",
    "train_y = train_y.astype(np.float32)\n",
    "\n",
    "test_x = test_x.astype(np.float32)\n",
    "test_y = test_y.astype(np.float32)\n",
    "\n",
    "val_x = val_x.astype(np.float32)\n",
    "val_y = val_y.astype(np.float32)"
   ]
  },
  {
   "cell_type": "code",
   "execution_count": 7,
   "id": "little-objective",
   "metadata": {},
   "outputs": [
    {
     "name": "stdout",
     "output_type": "stream",
     "text": [
      "평균: train_x 4.1401343\n",
      "최소값: 0.49454185\n",
      "최대값: 11.170589\n",
      "표준편차: 2.2594547\n"
     ]
    }
   ],
   "source": [
    "print('평균:', 'train_x',train_x.mean())\n",
    "print('최소값:',train_x.min())\n",
    "print('최대값:', train_x.max())\n",
    "print('표준편차:', train_x.std())"
   ]
  },
  {
   "cell_type": "code",
   "execution_count": 8,
   "id": "german-jordan",
   "metadata": {},
   "outputs": [
    {
     "data": {
      "text/plain": [
       "4.163056"
      ]
     },
     "execution_count": 8,
     "metadata": {},
     "output_type": "execute_result"
    }
   ],
   "source": [
    "train_x_0 = train_x[:, 0]\n",
    "train_x_0.mean()"
   ]
  },
  {
   "cell_type": "code",
   "execution_count": 9,
   "id": "arabic-clause",
   "metadata": {},
   "outputs": [],
   "source": [
    "# 데이터 찾기\n",
    "indices = np.where(train_x[:,0]>train_x.mean())[0]"
   ]
  },
  {
   "cell_type": "code",
   "execution_count": 10,
   "id": "applicable-dover",
   "metadata": {},
   "outputs": [
    {
     "data": {
      "image/png": "[encoded data removed]",
      "text/plain": [
       "<Figure size 432x288 with 1 Axes>"
      ]
     },
     "metadata": {
      "needs_background": "light"
     },
     "output_type": "display_data"
    }
   ],
   "source": [
    "#데이터 시각화\n",
    "\n",
    "train_colors = ['b' if label == 0 else 'r' for label in train_y]\n",
    "plt.scatter(train_x[:,0], train_x[:,1], label = 'Train data', alpha = 0.5, \n",
    "            marker='o', c = train_colors)\n",
    "\n",
    "test_colors = ['b' if label == 0 else 'r' for label in test_y]\n",
    "plt.scatter(test_x[:, 0], test_x[:, 1], label='Test data')\n",
    "\n",
    "val_colors = ['b' if label == 0 else 'r' for label in val_y]\n",
    "plt.scatter(val_x[:, 0], val_x[:, 1], label='Validation data', alpha=0.5, \n",
    "            marker ='*', c = val_colors)\n",
    "\n",
    "plt.xlabel('Tumor size')\n",
    "plt.ylabel('Age')\n",
    "plt.legend()\n",
    "plt.show()"
   ]
  },
  {
   "cell_type": "code",
   "execution_count": null,
   "id": "activated-spectacular",
   "metadata": {},
   "outputs": [],
   "source": []
  }
 ],
 "metadata": {
  "kernelspec": {
   "display_name": "Python 3",
   "language": "python",
   "name": "python3"
  },
  "language_info": {
   "codemirror_mode": {
    "name": "ipython",
    "version": 3
   },
   "file_extension": ".py",
   "mimetype": "text/x-python",
   "name": "python",
   "nbconvert_exporter": "python",
   "pygments_lexer": "ipython3",
   "version": "3.8.8"
  }
 },
 "nbformat": 4,
 "nbformat_minor": 5
}